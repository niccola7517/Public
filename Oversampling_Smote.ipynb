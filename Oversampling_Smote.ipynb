{
 "cells": [
  {
   "cell_type": "code",
   "execution_count": 1,
   "metadata": {},
   "outputs": [
    {
     "name": "stdout",
     "output_type": "stream",
     "text": [
      "0    99.827251\n",
      "1     0.172749\n",
      "Name: Class, dtype: float64\n"
     ]
    },
    {
     "data": {
      "image/png": "[encoded data removed]",
      "text/plain": [
       "<Figure size 432x288 with 1 Axes>"
      ]
     },
     "metadata": {
      "needs_background": "light"
     },
     "output_type": "display_data"
    }
   ],
   "source": [
    "import pandas as pd \n",
    "import warnings\n",
    "\n",
    "warnings.filterwarnings(action='ignore')\n",
    "\n",
    "# dataset : Kaggle의 Credit Card Fraud Detection의 creditcard.csv \n",
    "df = pd.read_csv('datasets/creditcard.csv')\n",
    "\n",
    "# Class 별 데이터분포\n",
    "df.Class.value_counts(normalize=True).plot(kind='bar')\n",
    "print(df.Class.value_counts(normalize=True)*100)"
   ]
  },
  {
   "cell_type": "code",
   "execution_count": 2,
   "metadata": {},
   "outputs": [],
   "source": [
    "from sklearn.model_selection import train_test_split\n",
    "from sklearn.metrics import accuracy_score, precision_score, recall_score, f1_score\n",
    "\n",
    "# Original dataset으로 독립변수(X)와 종속변수(y) 지정\n",
    "X = df.iloc[:,:-1]\n",
    "y = df.iloc[:,-1]\n",
    "\n",
    "# Original dataset에 대한 training set과 test set 구분 (3:1)\n",
    "X_train, X_test, y_train, y_test = train_test_split(X,y,test_size=0.25,random_state=10)"
   ]
  },
  {
   "cell_type": "code",
   "execution_count": 3,
   "metadata": {},
   "outputs": [
    {
     "name": "stdout",
     "output_type": "stream",
     "text": [
      "SMOTE 적용 전 학습용 피처/레이블 데이터 세트:  (284807, 30) (284807,)\n",
      "SMOTE 적용 후 학습용 피처/레이블 데이터 세트:  (568630, 30) (568630,)\n",
      "SMOTE 적용 후 레이블 값 분포: \n",
      " 1    284315\n",
      "0    284315\n",
      "Name: Class, dtype: int64\n"
     ]
    }
   ],
   "source": [
    "# imblearn(imbalanced data 문제해결을 위한 패키지) import\n",
    "from imblearn.over_sampling import SMOTE\n",
    "\n",
    "# SMOTE 모델 설정\n",
    "smote = SMOTE(random_state=0)\n",
    "\n",
    "# SMOTE 기법에 의한 Oversampling 진행\n",
    "X_over,y_over = smote.fit_sample(X,y)\n",
    "\n",
    "print('SMOTE 적용 전 학습용 피처/레이블 데이터 세트: ', X.shape, y.shape)\n",
    "print('SMOTE 적용 후 학습용 피처/레이블 데이터 세트: ', X_over.shape, y_over.shape)\n",
    "print('SMOTE 적용 후 레이블 값 분포: \\n', pd.Series(y_over).value_counts())\n",
    "\n",
    "# Oversampling dataset에 대한 training set과 test set 구분 (3:1)\n",
    "X_train_over, X_test_over, y_train_over, y_test_over = train_test_split(X_over, y_over, test_size=0.25, random_state=10)"
   ]
  },
  {
   "cell_type": "code",
   "execution_count": 23,
   "metadata": {},
   "outputs": [],
   "source": [
    "# 모델링 및 학습/검증\n",
    "def f_model_fit(cls, model,X_train,X_test,y_train,y_test):\n",
    "    model.fit(X_train,y_train)\n",
    "    pred = model.predict(X_test)\n",
    "    f_metrics(cls, y_test,pred)\n",
    "    \n",
    "# 분류 성능평가 지표\n",
    "def f_metrics(cls, y_test,pred):\n",
    "    accuracy = accuracy_score(y_test,pred)\n",
    "    precision = precision_score(y_test,pred)\n",
    "    recall = recall_score(y_test,pred)\n",
    "    f1 = f1_score(y_test,pred)\n",
    "    print(cls + '정확도 : {0:.3f}, 정밀도 : {1:.3f}, 재현율 : {2:.3f}, f1-score : {3:.3f}'.format(accuracy, precision, recall, f1))"
   ]
  },
  {
   "cell_type": "code",
   "execution_count": 24,
   "metadata": {},
   "outputs": [
    {
     "name": "stdout",
     "output_type": "stream",
     "text": [
      "Logistic Regression(SMOTE적용 전) -> 정확도 : 0.999, 정밀도 : 0.730, 재현율 : 0.736, f1-score : 0.733\n",
      "Wall time: 2.1 s\n",
      "Logistic Regression(SMOTE적용 후) -> 정확도 : 0.974, 정밀도 : 0.983, 재현율 : 0.964, f1-score : 0.973\n",
      "Wall time: 5.27 s\n"
     ]
    }
   ],
   "source": [
    "# 분석기법 : Logistic Regression\n",
    "from sklearn.linear_model import LogisticRegression\n",
    "\n",
    "lr = LogisticRegression()\n",
    "%time f_model_fit('Logistic Regression(SMOTE적용 전) -> ', lr, X_train, X_test, y_train, y_test)\n",
    "%time f_model_fit('Logistic Regression(SMOTE적용 후) -> ', lr, X_train_over, X_test_over, y_train_over, y_test_over)"
   ]
  },
  {
   "cell_type": "code",
   "execution_count": 25,
   "metadata": {},
   "outputs": [
    {
     "data": {
      "text/plain": [
       "array([[69889,  1201],\n",
       "       [ 2551, 68517]], dtype=int64)"
      ]
     },
     "execution_count": 25,
     "metadata": {},
     "output_type": "execute_result"
    }
   ],
   "source": [
    "# test data로 예측(y_hat_over)\n",
    "y_hat_over = lr.predict(X_test_over)\n",
    "\n",
    "# 모형 성능 평가 - Confusion Matrix 계산\n",
    "from sklearn import metrics\n",
    "lr_matrix = metrics.confusion_matrix(y_test_over, y_hat_over)\n",
    "lr_matrix"
   ]
  },
  {
   "cell_type": "code",
   "execution_count": 26,
   "metadata": {},
   "outputs": [
    {
     "name": "stdout",
     "output_type": "stream",
     "text": [
      "              precision    recall  f1-score   support\n",
      "\n",
      "           0       0.96      0.98      0.97     71090\n",
      "           1       0.98      0.96      0.97     71068\n",
      "\n",
      "    accuracy                           0.97    142158\n",
      "   macro avg       0.97      0.97      0.97    142158\n",
      "weighted avg       0.97      0.97      0.97    142158\n",
      "\n"
     ]
    }
   ],
   "source": [
    "# 모형 성능 평가 - 평가지표 계산\n",
    "lr_report = metrics.classification_report(y_test_over, y_hat_over)\n",
    "print(lr_report)"
   ]
  },
  {
   "cell_type": "code",
   "execution_count": 27,
   "metadata": {},
   "outputs": [
    {
     "name": "stdout",
     "output_type": "stream",
     "text": [
      "Decision_tree(SMOTE적용 전) -> 정확도 : 0.999, 정밀도 : 0.896, 재현율 : 0.785, f1-score : 0.837\n",
      "Wall time: 5.42 s\n",
      "Decision_tree(SMOTE적용 후) -> 정확도 : 0.964, 정밀도 : 0.982, 재현율 : 0.946, f1-score : 0.963\n",
      "Wall time: 10.3 s\n"
     ]
    }
   ],
   "source": [
    "# 분석기법 : Decision_tree Classification\n",
    "from sklearn.tree import DecisionTreeClassifier  # 의사결정트리 기법에 관련된 모듈\n",
    "\n",
    "decision_tree = DecisionTreeClassifier(criterion='entropy', max_depth=4, random_state=0)\n",
    "%time f_model_fit('Decision_tree(SMOTE적용 전) -> ', decision_tree, X_train, X_test, y_train, y_test)\n",
    "%time f_model_fit('Decision_tree(SMOTE적용 후) -> ', decision_tree, X_train_over, X_test_over, y_train_over, y_test_over)"
   ]
  },
  {
   "cell_type": "code",
   "execution_count": 30,
   "metadata": {},
   "outputs": [
    {
     "data": {
      "text/plain": [
       "array([[69829,  1261],\n",
       "       [ 3855, 67213]], dtype=int64)"
      ]
     },
     "execution_count": 30,
     "metadata": {},
     "output_type": "execute_result"
    }
   ],
   "source": [
    "# test data로 예측(y_hat_over)\n",
    "y_hat_over = decision_tree.predict(X_test_over)\n",
    "\n",
    "# 모형 성능 평가 - Confusion Matrix 계산\n",
    "from sklearn import metrics\n",
    "decision_tree_matrix = metrics.confusion_matrix(y_test_over, y_hat_over)\n",
    "decision_tree_matrix"
   ]
  },
  {
   "cell_type": "code",
   "execution_count": 29,
   "metadata": {},
   "outputs": [
    {
     "name": "stdout",
     "output_type": "stream",
     "text": [
      "              precision    recall  f1-score   support\n",
      "\n",
      "           0       0.95      0.98      0.96     71090\n",
      "           1       0.98      0.95      0.96     71068\n",
      "\n",
      "    accuracy                           0.96    142158\n",
      "   macro avg       0.96      0.96      0.96    142158\n",
      "weighted avg       0.96      0.96      0.96    142158\n",
      "\n"
     ]
    }
   ],
   "source": [
    "# 모형 성능 평가 - 평가지표 계산\n",
    "decision_tree_report = metrics.classification_report(y_test_over, y_hat_over)\n",
    "print(decision_tree_report)"
   ]
  },
  {
   "cell_type": "code",
   "execution_count": 31,
   "metadata": {},
   "outputs": [
    {
     "name": "stdout",
     "output_type": "stream",
     "text": [
      "Random_forest(SMOTE적용 전) -> 정확도 : 1.000, 정밀도 : 0.960, 재현율 : 0.802, f1-score : 0.874\n",
      "Wall time: 32.1 s\n",
      "Random_forest(SMOTE적용 후) -> 정확도 : 1.000, 정밀도 : 1.000, 재현율 : 1.000, f1-score : 1.000\n",
      "Wall time: 1min 11s\n"
     ]
    }
   ],
   "source": [
    "# 분석기법 : Random_forest Classification\n",
    "from sklearn.ensemble import RandomForestClassifier  # 랜덤포리스트 기법에 관련된 모듈\n",
    "\n",
    "random_forest = RandomForestClassifier(n_estimators=20, random_state=0)\n",
    "%time f_model_fit('Random_forest(SMOTE적용 전) -> ', random_forest, X_train, X_test, y_train, y_test)\n",
    "%time f_model_fit('Random_forest(SMOTE적용 후) -> ', random_forest, X_train_over, X_test_over, y_train_over, y_test_over)"
   ]
  },
  {
   "cell_type": "code",
   "execution_count": 32,
   "metadata": {},
   "outputs": [
    {
     "data": {
      "text/plain": [
       "array([[71077,    13],\n",
       "       [    3, 71065]], dtype=int64)"
      ]
     },
     "execution_count": 32,
     "metadata": {},
     "output_type": "execute_result"
    }
   ],
   "source": [
    "# test data로 예측(y_hat_over)\n",
    "y_hat_over = random_forest.predict(X_test_over)\n",
    "\n",
    "# 모형 성능 평가 - Confusion Matrix 계산\n",
    "from sklearn import metrics\n",
    "random_forest_matrix = metrics.confusion_matrix(y_test_over, y_hat_over)\n",
    "random_forest_matrix"
   ]
  },
  {
   "cell_type": "code",
   "execution_count": 33,
   "metadata": {},
   "outputs": [
    {
     "name": "stdout",
     "output_type": "stream",
     "text": [
      "              precision    recall  f1-score   support\n",
      "\n",
      "           0       1.00      1.00      1.00     71090\n",
      "           1       1.00      1.00      1.00     71068\n",
      "\n",
      "    accuracy                           1.00    142158\n",
      "   macro avg       1.00      1.00      1.00    142158\n",
      "weighted avg       1.00      1.00      1.00    142158\n",
      "\n"
     ]
    }
   ],
   "source": [
    "# 모형 성능 평가 - 평가지표 계산\n",
    "random_forest_report = metrics.classification_report(y_test_over, y_hat_over)\n",
    "print(random_forest_report)"
   ]
  },
  {
   "cell_type": "code",
   "execution_count": 8,
   "metadata": {},
   "outputs": [
    {
     "name": "stdout",
     "output_type": "stream",
     "text": [
      "XGBoost(SMOTE적용 전) -> 정확도 : 1.000, 정밀도 : 0.962, 재현율 : 0.835, f1-score : 0.894\n",
      "Wall time: 49.2 s\n",
      "XGBoost(SMOTE적용 후) -> 정확도 : 0.997, 정밀도 : 0.997, 재현율 : 0.997, f1-score : 0.997\n",
      "Wall time: 1min 48s\n"
     ]
    }
   ],
   "source": [
    "# 분석기법 : Xgboost Classification\n",
    "import xgboost as xgb # xgboost 기법에 관련된 모듈\n",
    "\n",
    "gbm = xgb.XGBClassifier(max_depth=4, n_estimators=300, learning_rate=0.05, eval_metric='logloss')\n",
    "%time f_model_fit('XGBoost(SMOTE적용 전) -> ', gbm, X_train, X_test, y_train, y_test)\n",
    "%time f_model_fit('XGBoost(SMOTE적용 후) -> ', gbm, X_train_over, X_test_over, y_train_over, y_test_over)"
   ]
  },
  {
   "cell_type": "code",
   "execution_count": 34,
   "metadata": {},
   "outputs": [
    {
     "data": {
      "text/plain": [
       "array([[70912,   178],\n",
       "       [  200, 70868]], dtype=int64)"
      ]
     },
     "execution_count": 34,
     "metadata": {},
     "output_type": "execute_result"
    }
   ],
   "source": [
    "# test data로 예측(y_hat_over)\n",
    "y_hat_over = gbm.predict(X_test_over)\n",
    "\n",
    "# 모형 성능 평가 - Confusion Matrix 계산\n",
    "from sklearn import metrics\n",
    "gbm_matrix = metrics.confusion_matrix(y_test_over, y_hat_over)\n",
    "gbm_matrix"
   ]
  },
  {
   "cell_type": "code",
   "execution_count": 35,
   "metadata": {},
   "outputs": [
    {
     "name": "stdout",
     "output_type": "stream",
     "text": [
      "              precision    recall  f1-score   support\n",
      "\n",
      "           0       1.00      1.00      1.00     71090\n",
      "           1       1.00      1.00      1.00     71068\n",
      "\n",
      "    accuracy                           1.00    142158\n",
      "   macro avg       1.00      1.00      1.00    142158\n",
      "weighted avg       1.00      1.00      1.00    142158\n",
      "\n"
     ]
    }
   ],
   "source": [
    "# 모형 성능 평가 - 평가지표 계산\n",
    "gbm_report = metrics.classification_report(y_test_over, y_hat_over)\n",
    "print(gbm_report)"
   ]
  },
  {
   "cell_type": "code",
   "execution_count": 9,
   "metadata": {},
   "outputs": [
    {
     "name": "stdout",
     "output_type": "stream",
     "text": [
      "Lightgbm(SMOTE적용 전) -> 정확도 : 1.000, 정밀도 : 0.952, 재현율 : 0.826, f1-score : 0.885\n",
      "Wall time: 8.24 s\n",
      "Lightgbm(SMOTE적용 후) -> 정확도 : 1.000, 정밀도 : 1.000, 재현율 : 1.000, f1-score : 1.000\n",
      "Wall time: 24 s\n"
     ]
    }
   ],
   "source": [
    "# 분석기법 : LightGBM Classification\n",
    "from lightgbm import LGBMClassifier\n",
    "lgb = LGBMClassifier(n_estimators=1000,num_leaves=64,n_jobs=-1,boost_from_average=False)\n",
    "%time f_model_fit('Lightgbm(SMOTE적용 전) -> ', lgb, X_train, X_test, y_train, y_test)\n",
    "%time f_model_fit('Lightgbm(SMOTE적용 후) -> ', lgb, X_train_over, X_test_over, y_train_over, y_test_over)"
   ]
  },
  {
   "cell_type": "code",
   "execution_count": 36,
   "metadata": {},
   "outputs": [
    {
     "data": {
      "text/plain": [
       "array([[71074,    16],\n",
       "       [    0, 71068]], dtype=int64)"
      ]
     },
     "execution_count": 36,
     "metadata": {},
     "output_type": "execute_result"
    }
   ],
   "source": [
    "# test data로 예측(y_hat_over)\n",
    "y_hat_over = lgb.predict(X_test_over)\n",
    "\n",
    "# 모형 성능 평가 - Confusion Matrix 계산\n",
    "from sklearn import metrics\n",
    "lgb = metrics.confusion_matrix(y_test_over, y_hat_over)\n",
    "lgb"
   ]
  },
  {
   "cell_type": "code",
   "execution_count": 37,
   "metadata": {},
   "outputs": [
    {
     "name": "stdout",
     "output_type": "stream",
     "text": [
      "              precision    recall  f1-score   support\n",
      "\n",
      "           0       1.00      1.00      1.00     71090\n",
      "           1       1.00      1.00      1.00     71068\n",
      "\n",
      "    accuracy                           1.00    142158\n",
      "   macro avg       1.00      1.00      1.00    142158\n",
      "weighted avg       1.00      1.00      1.00    142158\n",
      "\n"
     ]
    }
   ],
   "source": [
    "# 모형 성능 평가 - 평가지표 계산\n",
    "lgb_report = metrics.classification_report(y_test_over, y_hat_over)\n",
    "print(lgb_report)"
   ]
  },
  {
   "cell_type": "code",
   "execution_count": null,
   "metadata": {},
   "outputs": [],
   "source": []
  }
 ],
 "metadata": {
  "kernelspec": {
   "display_name": "Python 3",
   "language": "python",
   "name": "python3"
  },
  "language_info": {
   "codemirror_mode": {
    "name": "ipython",
    "version": 3
   },
   "file_extension": ".py",
   "mimetype": "text/x-python",
   "name": "python",
   "nbconvert_exporter": "python",
   "pygments_lexer": "ipython3",
   "version": "3.6.10"
  }
 },
 "nbformat": 4,
 "nbformat_minor": 4
}
