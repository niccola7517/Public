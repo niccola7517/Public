{
 "cells": [
  {
   "cell_type": "markdown",
   "metadata": {},
   "source": [
    "# 실무예제 3-2"
   ]
  },
  {
   "cell_type": "markdown",
   "metadata": {},
   "source": [
    "## 다음은 2013년 전라남도 유망중소기업 지정업체 명단의 일부이다. 시군 속성과 지정구분 속성 간의 연관성 여부를 카이제곱 검정 방법에 의해 판단해 보시오. (단, 유의 수준은 0.05이다)"
   ]
  },
  {
   "cell_type": "markdown",
   "metadata": {},
   "source": [
    "### 데이터 파일 : ch3-2(유망중소기업현황).csv"
   ]
  },
  {
   "cell_type": "markdown",
   "metadata": {},
   "source": [
    "### 원본 투플수 : 386개"
   ]
  },
  {
   "cell_type": "code",
   "execution_count": 1,
   "metadata": {},
   "outputs": [],
   "source": [
    "# ch3-2.py\n",
    "import pandas as pd\n",
    "import numpy as np\n",
    "# import cx_Oracle      # Oracle DB 연동을 위한 cx_Oracle 패키지 임포트\n",
    "\n",
    "# 데이터로드 (ch2-2.csv : 데이터 원본 파일)\n",
    "# encoding : 윈도우즈 환경에서의 한글 처리\n",
    "# engine : python 3.6에서 한글이 포함된 파일이름 사용\n",
    "rawData_org = pd.read_csv('.jupyter/ch3-2(유망중소기업현황).csv', encoding='CP949', engine='python')"
   ]
  },
  {
   "cell_type": "code",
   "execution_count": 2,
   "metadata": {},
   "outputs": [
    {
     "data": {
      "text/html": [
       "<div>\n",
       "<style scoped>\n",
       "    .dataframe tbody tr th:only-of-type {\n",
       "        vertical-align: middle;\n",
       "    }\n",
       "\n",
       "    .dataframe tbody tr th {\n",
       "        vertical-align: top;\n",
       "    }\n",
       "\n",
       "    .dataframe thead th {\n",
       "        text-align: right;\n",
       "    }\n",
       "</style>\n",
       "<table border=\"1\" class=\"dataframe\">\n",
       "  <thead>\n",
       "    <tr style=\"text-align: right;\">\n",
       "      <th></th>\n",
       "      <th>연번</th>\n",
       "      <th>시군</th>\n",
       "      <th>지정구분</th>\n",
       "      <th>기업명</th>\n",
       "      <th>대표자</th>\n",
       "      <th>소  재  지</th>\n",
       "      <th>주생산품</th>\n",
       "      <th>전화번호(061)</th>\n",
       "      <th>비고\\n(지정번호)</th>\n",
       "    </tr>\n",
       "  </thead>\n",
       "  <tbody>\n",
       "    <tr>\n",
       "      <th>0</th>\n",
       "      <td>1</td>\n",
       "      <td>목포시</td>\n",
       "      <td>기술유망</td>\n",
       "      <td>브로드컴㈜</td>\n",
       "      <td>이봉헌</td>\n",
       "      <td>목포시 석현동 1175(벤처지원 202)</td>\n",
       "      <td>정보통신</td>\n",
       "      <td>284-0017</td>\n",
       "      <td>11-1</td>\n",
       "    </tr>\n",
       "    <tr>\n",
       "      <th>1</th>\n",
       "      <td>2</td>\n",
       "      <td>목포시</td>\n",
       "      <td>기술유망</td>\n",
       "      <td>㈜케이에스</td>\n",
       "      <td>김시오</td>\n",
       "      <td>목포시 연산동1236-3</td>\n",
       "      <td>용접철망외</td>\n",
       "      <td>1588-4118</td>\n",
       "      <td>11-2</td>\n",
       "    </tr>\n",
       "    <tr>\n",
       "      <th>2</th>\n",
       "      <td>3</td>\n",
       "      <td>목포시</td>\n",
       "      <td>기술유망</td>\n",
       "      <td>삼진물산(주)</td>\n",
       "      <td>김관석</td>\n",
       "      <td>목포시 연산동 1239-1</td>\n",
       "      <td>참치통조림</td>\n",
       "      <td>270-6113</td>\n",
       "      <td>11-3</td>\n",
       "    </tr>\n",
       "    <tr>\n",
       "      <th>3</th>\n",
       "      <td>4</td>\n",
       "      <td>목포시</td>\n",
       "      <td>기술유망</td>\n",
       "      <td>㈜혜성</td>\n",
       "      <td>전재두</td>\n",
       "      <td>목포시 연산동1237-3</td>\n",
       "      <td>가드레일외</td>\n",
       "      <td>1588-2811</td>\n",
       "      <td>11-4</td>\n",
       "    </tr>\n",
       "    <tr>\n",
       "      <th>4</th>\n",
       "      <td>5</td>\n",
       "      <td>목포시</td>\n",
       "      <td>기술유망</td>\n",
       "      <td>(유)한국메이드</td>\n",
       "      <td>이승룡</td>\n",
       "      <td>목포시 연산동 1238-4</td>\n",
       "      <td>선박블록</td>\n",
       "      <td>278-4411</td>\n",
       "      <td>11-5</td>\n",
       "    </tr>\n",
       "    <tr>\n",
       "      <th>...</th>\n",
       "      <td>...</td>\n",
       "      <td>...</td>\n",
       "      <td>...</td>\n",
       "      <td>...</td>\n",
       "      <td>...</td>\n",
       "      <td>...</td>\n",
       "      <td>...</td>\n",
       "      <td>...</td>\n",
       "      <td>...</td>\n",
       "    </tr>\n",
       "    <tr>\n",
       "      <th>381</th>\n",
       "      <td>382</td>\n",
       "      <td>완도군</td>\n",
       "      <td>지역특화</td>\n",
       "      <td>㈜세영산업</td>\n",
       "      <td>김주효</td>\n",
       "      <td>완도군 완도읍가용리</td>\n",
       "      <td>찐톳.건미역</td>\n",
       "      <td>555-0294</td>\n",
       "      <td>11-276</td>\n",
       "    </tr>\n",
       "    <tr>\n",
       "      <th>382</th>\n",
       "      <td>383</td>\n",
       "      <td>완도군</td>\n",
       "      <td>기술유망</td>\n",
       "      <td>동주씨테크㈜</td>\n",
       "      <td>이용철</td>\n",
       "      <td>완도군 완도읍 가용리 1086-6</td>\n",
       "      <td>개량부자 전복양식자재</td>\n",
       "      <td>554-6690</td>\n",
       "      <td>12-63</td>\n",
       "    </tr>\n",
       "    <tr>\n",
       "      <th>383</th>\n",
       "      <td>384</td>\n",
       "      <td>진도군</td>\n",
       "      <td>수출유망</td>\n",
       "      <td>대대로영농조합법인</td>\n",
       "      <td>김애란</td>\n",
       "      <td>진도군 군내면 명량대첩로 288-23</td>\n",
       "      <td>홍주</td>\n",
       "      <td>542-3399</td>\n",
       "      <td>11-290</td>\n",
       "    </tr>\n",
       "    <tr>\n",
       "      <th>384</th>\n",
       "      <td>385</td>\n",
       "      <td>진도군</td>\n",
       "      <td>지역특화</td>\n",
       "      <td>진도정미소영농조합법인</td>\n",
       "      <td>이운갑</td>\n",
       "      <td>진도군 의신면 돈지리 144</td>\n",
       "      <td>흑미, 기타유색미</td>\n",
       "      <td>544-3459</td>\n",
       "      <td>12-64</td>\n",
       "    </tr>\n",
       "    <tr>\n",
       "      <th>385</th>\n",
       "      <td>386</td>\n",
       "      <td>신안군</td>\n",
       "      <td>기술유망</td>\n",
       "      <td>㈜영진그린식품</td>\n",
       "      <td>호병용</td>\n",
       "      <td>신안군 지도읍 두류산길 91-41</td>\n",
       "      <td>천일염\\n기타 가공염</td>\n",
       "      <td>275-2330</td>\n",
       "      <td>11-291</td>\n",
       "    </tr>\n",
       "  </tbody>\n",
       "</table>\n",
       "<p>386 rows × 9 columns</p>\n",
       "</div>"
      ],
      "text/plain": [
       "      연번   시군  지정구분          기업명  대표자                 소  재  지         주생산품  \\\n",
       "0      1  목포시  기술유망        브로드컴㈜  이봉헌  목포시 석현동 1175(벤처지원 202)         정보통신   \n",
       "1      2  목포시  기술유망        ㈜케이에스  김시오           목포시 연산동1236-3        용접철망외   \n",
       "2      3  목포시  기술유망      삼진물산(주)  김관석          목포시 연산동 1239-1        참치통조림   \n",
       "3      4  목포시  기술유망          ㈜혜성  전재두           목포시 연산동1237-3        가드레일외   \n",
       "4      5  목포시  기술유망     (유)한국메이드  이승룡          목포시 연산동 1238-4         선박블록   \n",
       "..   ...  ...   ...          ...  ...                     ...          ...   \n",
       "381  382  완도군  지역특화        ㈜세영산업  김주효              완도군 완도읍가용리       찐톳.건미역   \n",
       "382  383  완도군  기술유망       동주씨테크㈜  이용철      완도군 완도읍 가용리 1086-6  개량부자 전복양식자재   \n",
       "383  384  진도군  수출유망    대대로영농조합법인  김애란    진도군 군내면 명량대첩로 288-23           홍주   \n",
       "384  385  진도군  지역특화  진도정미소영농조합법인  이운갑         진도군 의신면 돈지리 144    흑미, 기타유색미   \n",
       "385  386  신안군  기술유망      ㈜영진그린식품  호병용      신안군 지도읍 두류산길 91-41  천일염\\n기타 가공염   \n",
       "\n",
       "     전화번호(061) 비고\\n(지정번호)  \n",
       "0     284-0017       11-1  \n",
       "1    1588-4118       11-2  \n",
       "2     270-6113       11-3  \n",
       "3    1588-2811       11-4  \n",
       "4     278-4411       11-5  \n",
       "..         ...        ...  \n",
       "381   555-0294     11-276  \n",
       "382   554-6690      12-63  \n",
       "383   542-3399     11-290  \n",
       "384   544-3459      12-64  \n",
       "385   275-2330     11-291  \n",
       "\n",
       "[386 rows x 9 columns]"
      ]
     },
     "execution_count": 2,
     "metadata": {},
     "output_type": "execute_result"
    }
   ],
   "source": [
    "rawData_org"
   ]
  },
  {
   "cell_type": "code",
   "execution_count": 3,
   "metadata": {},
   "outputs": [],
   "source": [
    "# 원본 데이터파일에서 '시군'과 '지정구분' 속성만 추출\n",
    "rawData = rawData_org.loc[:,'시군':'지정구분']"
   ]
  },
  {
   "cell_type": "code",
   "execution_count": 4,
   "metadata": {},
   "outputs": [
    {
     "data": {
      "text/html": [
       "<div>\n",
       "<style scoped>\n",
       "    .dataframe tbody tr th:only-of-type {\n",
       "        vertical-align: middle;\n",
       "    }\n",
       "\n",
       "    .dataframe tbody tr th {\n",
       "        vertical-align: top;\n",
       "    }\n",
       "\n",
       "    .dataframe thead th {\n",
       "        text-align: right;\n",
       "    }\n",
       "</style>\n",
       "<table border=\"1\" class=\"dataframe\">\n",
       "  <thead>\n",
       "    <tr style=\"text-align: right;\">\n",
       "      <th></th>\n",
       "      <th>시군</th>\n",
       "      <th>지정구분</th>\n",
       "    </tr>\n",
       "  </thead>\n",
       "  <tbody>\n",
       "    <tr>\n",
       "      <th>0</th>\n",
       "      <td>목포시</td>\n",
       "      <td>기술유망</td>\n",
       "    </tr>\n",
       "    <tr>\n",
       "      <th>1</th>\n",
       "      <td>목포시</td>\n",
       "      <td>기술유망</td>\n",
       "    </tr>\n",
       "    <tr>\n",
       "      <th>2</th>\n",
       "      <td>목포시</td>\n",
       "      <td>기술유망</td>\n",
       "    </tr>\n",
       "    <tr>\n",
       "      <th>3</th>\n",
       "      <td>목포시</td>\n",
       "      <td>기술유망</td>\n",
       "    </tr>\n",
       "    <tr>\n",
       "      <th>4</th>\n",
       "      <td>목포시</td>\n",
       "      <td>기술유망</td>\n",
       "    </tr>\n",
       "    <tr>\n",
       "      <th>...</th>\n",
       "      <td>...</td>\n",
       "      <td>...</td>\n",
       "    </tr>\n",
       "    <tr>\n",
       "      <th>381</th>\n",
       "      <td>완도군</td>\n",
       "      <td>지역특화</td>\n",
       "    </tr>\n",
       "    <tr>\n",
       "      <th>382</th>\n",
       "      <td>완도군</td>\n",
       "      <td>기술유망</td>\n",
       "    </tr>\n",
       "    <tr>\n",
       "      <th>383</th>\n",
       "      <td>진도군</td>\n",
       "      <td>수출유망</td>\n",
       "    </tr>\n",
       "    <tr>\n",
       "      <th>384</th>\n",
       "      <td>진도군</td>\n",
       "      <td>지역특화</td>\n",
       "    </tr>\n",
       "    <tr>\n",
       "      <th>385</th>\n",
       "      <td>신안군</td>\n",
       "      <td>기술유망</td>\n",
       "    </tr>\n",
       "  </tbody>\n",
       "</table>\n",
       "<p>386 rows × 2 columns</p>\n",
       "</div>"
      ],
      "text/plain": [
       "      시군  지정구분\n",
       "0    목포시  기술유망\n",
       "1    목포시  기술유망\n",
       "2    목포시  기술유망\n",
       "3    목포시  기술유망\n",
       "4    목포시  기술유망\n",
       "..   ...   ...\n",
       "381  완도군  지역특화\n",
       "382  완도군  기술유망\n",
       "383  진도군  수출유망\n",
       "384  진도군  지역특화\n",
       "385  신안군  기술유망\n",
       "\n",
       "[386 rows x 2 columns]"
      ]
     },
     "execution_count": 4,
     "metadata": {},
     "output_type": "execute_result"
    }
   ],
   "source": [
    "rawData"
   ]
  },
  {
   "cell_type": "markdown",
   "metadata": {},
   "source": [
    "### pandas 데이터프레임에 카이제곱 검정을 위한 관측도수/기대도수 분할표 저장\n",
    "### ‘시군’ 속성 ‘지정구분’ 속성에 대한 관측도수와 기대도수\n",
    "#### 관측도수 :  ‘시군’과 ‘지정구분’ 속성값의 조합에 대한 실제 출현횟수\n",
    "#### 기대도수 : 전체 행의 개수와 각 속성의 카디널러티(cardinality, 서로 다른 속성값의 개수)를 구하여 산출\n",
    "#### 실제 출현하지 않은 (시군+지정구분) 속성값도 포함시키기 위해서 외부조인(outer join)을 수행"
   ]
  },
  {
   "cell_type": "code",
   "execution_count": 5,
   "metadata": {},
   "outputs": [
    {
     "data": {
      "text/html": [
       "<div>\n",
       "<style scoped>\n",
       "    .dataframe tbody tr th:only-of-type {\n",
       "        vertical-align: middle;\n",
       "    }\n",
       "\n",
       "    .dataframe tbody tr th {\n",
       "        vertical-align: top;\n",
       "    }\n",
       "\n",
       "    .dataframe thead th {\n",
       "        text-align: right;\n",
       "    }\n",
       "</style>\n",
       "<table border=\"1\" class=\"dataframe\">\n",
       "  <thead>\n",
       "    <tr style=\"text-align: right;\">\n",
       "      <th></th>\n",
       "      <th>시군</th>\n",
       "      <th>지정구분</th>\n",
       "      <th>관측도수</th>\n",
       "    </tr>\n",
       "  </thead>\n",
       "  <tbody>\n",
       "    <tr>\n",
       "      <th>0</th>\n",
       "      <td>강진군</td>\n",
       "      <td>기술유망</td>\n",
       "      <td>2</td>\n",
       "    </tr>\n",
       "    <tr>\n",
       "      <th>1</th>\n",
       "      <td>강진군</td>\n",
       "      <td>수출유망</td>\n",
       "      <td>1</td>\n",
       "    </tr>\n",
       "    <tr>\n",
       "      <th>2</th>\n",
       "      <td>강진군</td>\n",
       "      <td>지역특화</td>\n",
       "      <td>4</td>\n",
       "    </tr>\n",
       "    <tr>\n",
       "      <th>3</th>\n",
       "      <td>고흥군</td>\n",
       "      <td>기술유망</td>\n",
       "      <td>5</td>\n",
       "    </tr>\n",
       "    <tr>\n",
       "      <th>4</th>\n",
       "      <td>고흥군</td>\n",
       "      <td>수출유망</td>\n",
       "      <td>1</td>\n",
       "    </tr>\n",
       "  </tbody>\n",
       "</table>\n",
       "</div>"
      ],
      "text/plain": [
       "    시군  지정구분  관측도수\n",
       "0  강진군  기술유망     2\n",
       "1  강진군  수출유망     1\n",
       "2  강진군  지역특화     4\n",
       "3  고흥군  기술유망     5\n",
       "4  고흥군  수출유망     1"
      ]
     },
     "execution_count": 5,
     "metadata": {},
     "output_type": "execute_result"
    }
   ],
   "source": [
    "# 관측도수 구하기\n",
    "obs_df = pd.DataFrame()\n",
    "obs_df.columns=['관측도수']\n",
    "obs_df.reset_index(inplace=True)\n",
    "obs_df.head()"
   ]
  },
  {
   "cell_type": "code",
   "execution_count": 6,
   "metadata": {},
   "outputs": [
    {
     "data": {
      "text/html": [
       "<div>\n",
       "<style scoped>\n",
       "    .dataframe tbody tr th:only-of-type {\n",
       "        vertical-align: middle;\n",
       "    }\n",
       "\n",
       "    .dataframe tbody tr th {\n",
       "        vertical-align: top;\n",
       "    }\n",
       "\n",
       "    .dataframe thead th {\n",
       "        text-align: right;\n",
       "    }\n",
       "</style>\n",
       "<table border=\"1\" class=\"dataframe\">\n",
       "  <thead>\n",
       "    <tr style=\"text-align: right;\">\n",
       "      <th></th>\n",
       "      <th>시군</th>\n",
       "      <th>기대도수_시군</th>\n",
       "    </tr>\n",
       "  </thead>\n",
       "  <tbody>\n",
       "    <tr>\n",
       "      <th>0</th>\n",
       "      <td>강진군</td>\n",
       "      <td>7</td>\n",
       "    </tr>\n",
       "    <tr>\n",
       "      <th>1</th>\n",
       "      <td>고흥군</td>\n",
       "      <td>6</td>\n",
       "    </tr>\n",
       "    <tr>\n",
       "      <th>2</th>\n",
       "      <td>곡성군</td>\n",
       "      <td>6</td>\n",
       "    </tr>\n",
       "    <tr>\n",
       "      <th>3</th>\n",
       "      <td>광양시</td>\n",
       "      <td>50</td>\n",
       "    </tr>\n",
       "    <tr>\n",
       "      <th>4</th>\n",
       "      <td>구례군</td>\n",
       "      <td>8</td>\n",
       "    </tr>\n",
       "  </tbody>\n",
       "</table>\n",
       "</div>"
      ],
      "text/plain": [
       "    시군  기대도수_시군\n",
       "0  강진군        7\n",
       "1  고흥군        6\n",
       "2  곡성군        6\n",
       "3  광양시       50\n",
       "4  구례군        8"
      ]
     },
     "execution_count": 6,
     "metadata": {},
     "output_type": "execute_result"
    }
   ],
   "source": [
    "# 기대도수 구하기\n",
    "# 시군별 개수(도수)\n",
    "sigun_df = pd.DataFrame()\n",
    "sigun_df.columns=['기대도수_시군']\n",
    "sigun_df.reset_index(inplace=True)\n",
    "sigun_df.head()"
   ]
  },
  {
   "cell_type": "code",
   "execution_count": 7,
   "metadata": {},
   "outputs": [
    {
     "data": {
      "text/html": [
       "<div>\n",
       "<style scoped>\n",
       "    .dataframe tbody tr th:only-of-type {\n",
       "        vertical-align: middle;\n",
       "    }\n",
       "\n",
       "    .dataframe tbody tr th {\n",
       "        vertical-align: top;\n",
       "    }\n",
       "\n",
       "    .dataframe thead th {\n",
       "        text-align: right;\n",
       "    }\n",
       "</style>\n",
       "<table border=\"1\" class=\"dataframe\">\n",
       "  <thead>\n",
       "    <tr style=\"text-align: right;\">\n",
       "      <th></th>\n",
       "      <th>지정구분</th>\n",
       "      <th>기대도수_지정구분</th>\n",
       "    </tr>\n",
       "  </thead>\n",
       "  <tbody>\n",
       "    <tr>\n",
       "      <th>0</th>\n",
       "      <td>기술유망</td>\n",
       "      <td>252</td>\n",
       "    </tr>\n",
       "    <tr>\n",
       "      <th>1</th>\n",
       "      <td>수출유망</td>\n",
       "      <td>61</td>\n",
       "    </tr>\n",
       "    <tr>\n",
       "      <th>2</th>\n",
       "      <td>지역특화</td>\n",
       "      <td>73</td>\n",
       "    </tr>\n",
       "  </tbody>\n",
       "</table>\n",
       "</div>"
      ],
      "text/plain": [
       "   지정구분  기대도수_지정구분\n",
       "0  기술유망        252\n",
       "1  수출유망         61\n",
       "2  지역특화         73"
      ]
     },
     "execution_count": 7,
     "metadata": {},
     "output_type": "execute_result"
    }
   ],
   "source": [
    "# 지정구분별 개수(도수)\n",
    "gubun_df = pd.DataFrame()\n",
    "gubun_df.columns=['기대도수_지정구분']\n",
    "gubun_df.reset_index(inplace=True)\n",
    "gubun_df.head()"
   ]
  },
  {
   "cell_type": "code",
   "execution_count": 8,
   "metadata": {},
   "outputs": [
    {
     "data": {
      "text/plain": [
       "386"
      ]
     },
     "execution_count": 8,
     "metadata": {},
     "output_type": "execute_result"
    }
   ],
   "source": [
    "# 원본 데이터프레임의 전체 행의 개수\n",
    "tot_rows = rawData.shape[0]\n",
    "tot_rows"
   ]
  },
  {
   "cell_type": "code",
   "execution_count": 9,
   "metadata": {},
   "outputs": [
    {
     "data": {
      "text/plain": [
       "[(['강진군', 7], ['기술유망', 252]),\n",
       " (['강진군', 7], ['수출유망', 61]),\n",
       " (['강진군', 7], ['지역특화', 73]),\n",
       " (['고흥군', 6], ['기술유망', 252]),\n",
       " (['고흥군', 6], ['수출유망', 61]),\n",
       " (['고흥군', 6], ['지역특화', 73]),\n",
       " (['곡성군', 6], ['기술유망', 252]),\n",
       " (['곡성군', 6], ['수출유망', 61]),\n",
       " (['곡성군', 6], ['지역특화', 73]),\n",
       " (['광양시', 50], ['기술유망', 252]),\n",
       " (['광양시', 50], ['수출유망', 61]),\n",
       " (['광양시', 50], ['지역특화', 73]),\n",
       " (['구례군', 8], ['기술유망', 252]),\n",
       " (['구례군', 8], ['수출유망', 61]),\n",
       " (['구례군', 8], ['지역특화', 73]),\n",
       " (['나주시', 35], ['기술유망', 252]),\n",
       " (['나주시', 35], ['수출유망', 61]),\n",
       " (['나주시', 35], ['지역특화', 73]),\n",
       " (['담양군', 17], ['기술유망', 252]),\n",
       " (['담양군', 17], ['수출유망', 61]),\n",
       " (['담양군', 17], ['지역특화', 73]),\n",
       " (['목포시', 20], ['기술유망', 252]),\n",
       " (['목포시', 20], ['수출유망', 61]),\n",
       " (['목포시', 20], ['지역특화', 73]),\n",
       " (['무안군', 17], ['기술유망', 252]),\n",
       " (['무안군', 17], ['수출유망', 61]),\n",
       " (['무안군', 17], ['지역특화', 73]),\n",
       " (['보성군', 12], ['기술유망', 252]),\n",
       " (['보성군', 12], ['수출유망', 61]),\n",
       " (['보성군', 12], ['지역특화', 73]),\n",
       " (['순천시', 38], ['기술유망', 252]),\n",
       " (['순천시', 38], ['수출유망', 61]),\n",
       " (['순천시', 38], ['지역특화', 73]),\n",
       " (['신안군', 1], ['기술유망', 252]),\n",
       " (['신안군', 1], ['수출유망', 61]),\n",
       " (['신안군', 1], ['지역특화', 73]),\n",
       " (['여수시', 35], ['기술유망', 252]),\n",
       " (['여수시', 35], ['수출유망', 61]),\n",
       " (['여수시', 35], ['지역특화', 73]),\n",
       " (['영광군', 8], ['기술유망', 252]),\n",
       " (['영광군', 8], ['수출유망', 61]),\n",
       " (['영광군', 8], ['지역특화', 73]),\n",
       " (['영암군', 34], ['기술유망', 252]),\n",
       " (['영암군', 34], ['수출유망', 61]),\n",
       " (['영암군', 34], ['지역특화', 73]),\n",
       " (['완도군', 18], ['기술유망', 252]),\n",
       " (['완도군', 18], ['수출유망', 61]),\n",
       " (['완도군', 18], ['지역특화', 73]),\n",
       " (['장성군', 19], ['기술유망', 252]),\n",
       " (['장성군', 19], ['수출유망', 61]),\n",
       " (['장성군', 19], ['지역특화', 73]),\n",
       " (['장흥군', 6], ['기술유망', 252]),\n",
       " (['장흥군', 6], ['수출유망', 61]),\n",
       " (['장흥군', 6], ['지역특화', 73]),\n",
       " (['진도군', 2], ['기술유망', 252]),\n",
       " (['진도군', 2], ['수출유망', 61]),\n",
       " (['진도군', 2], ['지역특화', 73]),\n",
       " (['함평군', 9], ['기술유망', 252]),\n",
       " (['함평군', 9], ['수출유망', 61]),\n",
       " (['함평군', 9], ['지역특화', 73]),\n",
       " (['해남군', 7], ['기술유망', 252]),\n",
       " (['해남군', 7], ['수출유망', 61]),\n",
       " (['해남군', 7], ['지역특화', 73]),\n",
       " (['화순군', 31], ['기술유망', 252]),\n",
       " (['화순군', 31], ['수출유망', 61]),\n",
       " (['화순군', 31], ['지역특화', 73])]"
      ]
     },
     "execution_count": 9,
     "metadata": {},
     "output_type": "execute_result"
    }
   ],
   "source": [
    "import itertools as its\n",
    "\n",
    "# 두 데이터프레임 간 cartesian product(곱집합) 구하기 (리스트로 변환 후 곱집합 연산 수행)\n",
    "list_pro = \n",
    "list_pro"
   ]
  },
  {
   "cell_type": "code",
   "execution_count": 10,
   "metadata": {},
   "outputs": [
    {
     "data": {
      "text/plain": [
       "[['강진군', '7', '기술유망', '252'],\n",
       " ['강진군', '7', '수출유망', '61'],\n",
       " ['강진군', '7', '지역특화', '73'],\n",
       " ['고흥군', '6', '기술유망', '252'],\n",
       " ['고흥군', '6', '수출유망', '61'],\n",
       " ['고흥군', '6', '지역특화', '73'],\n",
       " ['곡성군', '6', '기술유망', '252'],\n",
       " ['곡성군', '6', '수출유망', '61'],\n",
       " ['곡성군', '6', '지역특화', '73'],\n",
       " ['광양시', '50', '기술유망', '252'],\n",
       " ['광양시', '50', '수출유망', '61'],\n",
       " ['광양시', '50', '지역특화', '73'],\n",
       " ['구례군', '8', '기술유망', '252'],\n",
       " ['구례군', '8', '수출유망', '61'],\n",
       " ['구례군', '8', '지역특화', '73'],\n",
       " ['나주시', '35', '기술유망', '252'],\n",
       " ['나주시', '35', '수출유망', '61'],\n",
       " ['나주시', '35', '지역특화', '73'],\n",
       " ['담양군', '17', '기술유망', '252'],\n",
       " ['담양군', '17', '수출유망', '61'],\n",
       " ['담양군', '17', '지역특화', '73'],\n",
       " ['목포시', '20', '기술유망', '252'],\n",
       " ['목포시', '20', '수출유망', '61'],\n",
       " ['목포시', '20', '지역특화', '73'],\n",
       " ['무안군', '17', '기술유망', '252'],\n",
       " ['무안군', '17', '수출유망', '61'],\n",
       " ['무안군', '17', '지역특화', '73'],\n",
       " ['보성군', '12', '기술유망', '252'],\n",
       " ['보성군', '12', '수출유망', '61'],\n",
       " ['보성군', '12', '지역특화', '73'],\n",
       " ['순천시', '38', '기술유망', '252'],\n",
       " ['순천시', '38', '수출유망', '61'],\n",
       " ['순천시', '38', '지역특화', '73'],\n",
       " ['신안군', '1', '기술유망', '252'],\n",
       " ['신안군', '1', '수출유망', '61'],\n",
       " ['신안군', '1', '지역특화', '73'],\n",
       " ['여수시', '35', '기술유망', '252'],\n",
       " ['여수시', '35', '수출유망', '61'],\n",
       " ['여수시', '35', '지역특화', '73'],\n",
       " ['영광군', '8', '기술유망', '252'],\n",
       " ['영광군', '8', '수출유망', '61'],\n",
       " ['영광군', '8', '지역특화', '73'],\n",
       " ['영암군', '34', '기술유망', '252'],\n",
       " ['영암군', '34', '수출유망', '61'],\n",
       " ['영암군', '34', '지역특화', '73'],\n",
       " ['완도군', '18', '기술유망', '252'],\n",
       " ['완도군', '18', '수출유망', '61'],\n",
       " ['완도군', '18', '지역특화', '73'],\n",
       " ['장성군', '19', '기술유망', '252'],\n",
       " ['장성군', '19', '수출유망', '61'],\n",
       " ['장성군', '19', '지역특화', '73'],\n",
       " ['장흥군', '6', '기술유망', '252'],\n",
       " ['장흥군', '6', '수출유망', '61'],\n",
       " ['장흥군', '6', '지역특화', '73'],\n",
       " ['진도군', '2', '기술유망', '252'],\n",
       " ['진도군', '2', '수출유망', '61'],\n",
       " ['진도군', '2', '지역특화', '73'],\n",
       " ['함평군', '9', '기술유망', '252'],\n",
       " ['함평군', '9', '수출유망', '61'],\n",
       " ['함평군', '9', '지역특화', '73'],\n",
       " ['해남군', '7', '기술유망', '252'],\n",
       " ['해남군', '7', '수출유망', '61'],\n",
       " ['해남군', '7', '지역특화', '73'],\n",
       " ['화순군', '31', '기술유망', '252'],\n",
       " ['화순군', '31', '수출유망', '61'],\n",
       " ['화순군', '31', '지역특화', '73']]"
      ]
     },
     "execution_count": 10,
     "metadata": {},
     "output_type": "execute_result"
    }
   ],
   "source": [
    "# 곱집합 결과 리스트를 저장하는 변수\n",
    "list_flat = []\n",
    "\n",
    "# list_pro의 각 행에 대해서 2차원구조를 1차원으로 flatting\n",
    "for list_ele in list_pro :\n",
    "    list_flat.append(np.array(list_ele).flatten().tolist())\n",
    "list_flat    "
   ]
  },
  {
   "cell_type": "code",
   "execution_count": 11,
   "metadata": {},
   "outputs": [
    {
     "data": {
      "text/plain": [
       "[4.569948186528498,\n",
       " 1.1062176165803108,\n",
       " 1.3238341968911918,\n",
       " 3.917098445595855,\n",
       " 0.9481865284974094,\n",
       " 1.1347150259067358,\n",
       " 3.917098445595855,\n",
       " 0.9481865284974094,\n",
       " 1.1347150259067358,\n",
       " 32.64248704663213,\n",
       " 7.901554404145077,\n",
       " 9.455958549222798,\n",
       " 5.22279792746114,\n",
       " 1.2642487046632125,\n",
       " 1.5129533678756477,\n",
       " 22.849740932642487,\n",
       " 5.5310880829015545,\n",
       " 6.619170984455959,\n",
       " 11.098445595854923,\n",
       " 2.6865284974093266,\n",
       " 3.215025906735751,\n",
       " 13.05699481865285,\n",
       " 3.160621761658031,\n",
       " 3.7823834196891193,\n",
       " 11.098445595854923,\n",
       " 2.6865284974093266,\n",
       " 3.215025906735751,\n",
       " 7.83419689119171,\n",
       " 1.8963730569948187,\n",
       " 2.2694300518134716,\n",
       " 24.808290155440414,\n",
       " 6.005181347150259,\n",
       " 7.186528497409326,\n",
       " 0.6528497409326425,\n",
       " 0.15803108808290156,\n",
       " 0.18911917098445596,\n",
       " 22.849740932642487,\n",
       " 5.5310880829015545,\n",
       " 6.619170984455959,\n",
       " 5.22279792746114,\n",
       " 1.2642487046632125,\n",
       " 1.5129533678756477,\n",
       " 22.196891191709845,\n",
       " 5.373056994818653,\n",
       " 6.430051813471502,\n",
       " 11.751295336787564,\n",
       " 2.844559585492228,\n",
       " 3.4041450777202074,\n",
       " 12.404145077720207,\n",
       " 3.0025906735751295,\n",
       " 3.593264248704663,\n",
       " 3.917098445595855,\n",
       " 0.9481865284974094,\n",
       " 1.1347150259067358,\n",
       " 1.305699481865285,\n",
       " 0.3160621761658031,\n",
       " 0.37823834196891193,\n",
       " 5.875647668393782,\n",
       " 1.422279792746114,\n",
       " 1.7020725388601037,\n",
       " 4.569948186528498,\n",
       " 1.1062176165803108,\n",
       " 1.3238341968911918,\n",
       " 20.238341968911918,\n",
       " 4.898963730569948,\n",
       " 5.862694300518135]"
      ]
     },
     "execution_count": 11,
     "metadata": {},
     "output_type": "execute_result"
    }
   ],
   "source": [
    "# 기대도수를 저장하는 리스트 변수\n",
    "exp_list = []\n",
    "\n",
    "# list_flat 각 행에 대해서 기대도수를 구함    \n",
    "for list_ele in list_flat :\n",
    "    exp_list.append()\n",
    "exp_list    "
   ]
  },
  {
   "cell_type": "code",
   "execution_count": 12,
   "metadata": {},
   "outputs": [
    {
     "data": {
      "text/html": [
       "<div>\n",
       "<style scoped>\n",
       "    .dataframe tbody tr th:only-of-type {\n",
       "        vertical-align: middle;\n",
       "    }\n",
       "\n",
       "    .dataframe tbody tr th {\n",
       "        vertical-align: top;\n",
       "    }\n",
       "\n",
       "    .dataframe thead th {\n",
       "        text-align: right;\n",
       "    }\n",
       "</style>\n",
       "<table border=\"1\" class=\"dataframe\">\n",
       "  <thead>\n",
       "    <tr style=\"text-align: right;\">\n",
       "      <th></th>\n",
       "      <th>시군</th>\n",
       "      <th>지정구분</th>\n",
       "      <th>기대도수</th>\n",
       "    </tr>\n",
       "  </thead>\n",
       "  <tbody>\n",
       "    <tr>\n",
       "      <th>0</th>\n",
       "      <td>강진군</td>\n",
       "      <td>기술유망</td>\n",
       "      <td>4.569948</td>\n",
       "    </tr>\n",
       "    <tr>\n",
       "      <th>1</th>\n",
       "      <td>강진군</td>\n",
       "      <td>수출유망</td>\n",
       "      <td>1.106218</td>\n",
       "    </tr>\n",
       "    <tr>\n",
       "      <th>2</th>\n",
       "      <td>강진군</td>\n",
       "      <td>지역특화</td>\n",
       "      <td>1.323834</td>\n",
       "    </tr>\n",
       "    <tr>\n",
       "      <th>3</th>\n",
       "      <td>고흥군</td>\n",
       "      <td>기술유망</td>\n",
       "      <td>3.917098</td>\n",
       "    </tr>\n",
       "    <tr>\n",
       "      <th>4</th>\n",
       "      <td>고흥군</td>\n",
       "      <td>수출유망</td>\n",
       "      <td>0.948187</td>\n",
       "    </tr>\n",
       "  </tbody>\n",
       "</table>\n",
       "</div>"
      ],
      "text/plain": [
       "    시군  지정구분      기대도수\n",
       "0  강진군  기술유망  4.569948\n",
       "1  강진군  수출유망  1.106218\n",
       "2  강진군  지역특화  1.323834\n",
       "3  고흥군  기술유망  3.917098\n",
       "4  고흥군  수출유망  0.948187"
      ]
     },
     "execution_count": 12,
     "metadata": {},
     "output_type": "execute_result"
    }
   ],
   "source": [
    "# 기대도수 구하기\n",
    "exp_df = pd.DataFrame(data={'시군':np.array(list_flat).T[0],\n",
    "                           '지정구분':np.array(list_flat).T[2],\n",
    "                           '기대도수':exp_list})  \n",
    "exp_df.head()"
   ]
  },
  {
   "cell_type": "code",
   "execution_count": 13,
   "metadata": {},
   "outputs": [
    {
     "data": {
      "text/plain": [
       "60"
      ]
     },
     "execution_count": 13,
     "metadata": {},
     "output_type": "execute_result"
    }
   ],
   "source": [
    "obs_df.shape[0]"
   ]
  },
  {
   "cell_type": "code",
   "execution_count": 14,
   "metadata": {},
   "outputs": [
    {
     "data": {
      "text/plain": [
       "66"
      ]
     },
     "execution_count": 14,
     "metadata": {},
     "output_type": "execute_result"
    }
   ],
   "source": [
    "exp_df.shape[0]"
   ]
  },
  {
   "cell_type": "code",
   "execution_count": 15,
   "metadata": {},
   "outputs": [
    {
     "data": {
      "text/html": [
       "<div>\n",
       "<style scoped>\n",
       "    .dataframe tbody tr th:only-of-type {\n",
       "        vertical-align: middle;\n",
       "    }\n",
       "\n",
       "    .dataframe tbody tr th {\n",
       "        vertical-align: top;\n",
       "    }\n",
       "\n",
       "    .dataframe thead th {\n",
       "        text-align: right;\n",
       "    }\n",
       "</style>\n",
       "<table border=\"1\" class=\"dataframe\">\n",
       "  <thead>\n",
       "    <tr style=\"text-align: right;\">\n",
       "      <th></th>\n",
       "      <th>시군</th>\n",
       "      <th>지정구분</th>\n",
       "      <th>관측도수</th>\n",
       "      <th>기대도수</th>\n",
       "    </tr>\n",
       "  </thead>\n",
       "  <tbody>\n",
       "    <tr>\n",
       "      <th>0</th>\n",
       "      <td>강진군</td>\n",
       "      <td>기술유망</td>\n",
       "      <td>2.0</td>\n",
       "      <td>4.569948</td>\n",
       "    </tr>\n",
       "    <tr>\n",
       "      <th>1</th>\n",
       "      <td>강진군</td>\n",
       "      <td>수출유망</td>\n",
       "      <td>1.0</td>\n",
       "      <td>1.106218</td>\n",
       "    </tr>\n",
       "    <tr>\n",
       "      <th>2</th>\n",
       "      <td>강진군</td>\n",
       "      <td>지역특화</td>\n",
       "      <td>4.0</td>\n",
       "      <td>1.323834</td>\n",
       "    </tr>\n",
       "    <tr>\n",
       "      <th>3</th>\n",
       "      <td>고흥군</td>\n",
       "      <td>기술유망</td>\n",
       "      <td>5.0</td>\n",
       "      <td>3.917098</td>\n",
       "    </tr>\n",
       "    <tr>\n",
       "      <th>4</th>\n",
       "      <td>고흥군</td>\n",
       "      <td>수출유망</td>\n",
       "      <td>1.0</td>\n",
       "      <td>0.948187</td>\n",
       "    </tr>\n",
       "    <tr>\n",
       "      <th>...</th>\n",
       "      <td>...</td>\n",
       "      <td>...</td>\n",
       "      <td>...</td>\n",
       "      <td>...</td>\n",
       "    </tr>\n",
       "    <tr>\n",
       "      <th>61</th>\n",
       "      <td>해남군</td>\n",
       "      <td>수출유망</td>\n",
       "      <td>1.0</td>\n",
       "      <td>1.106218</td>\n",
       "    </tr>\n",
       "    <tr>\n",
       "      <th>62</th>\n",
       "      <td>해남군</td>\n",
       "      <td>지역특화</td>\n",
       "      <td>2.0</td>\n",
       "      <td>1.323834</td>\n",
       "    </tr>\n",
       "    <tr>\n",
       "      <th>63</th>\n",
       "      <td>화순군</td>\n",
       "      <td>기술유망</td>\n",
       "      <td>23.0</td>\n",
       "      <td>20.238342</td>\n",
       "    </tr>\n",
       "    <tr>\n",
       "      <th>64</th>\n",
       "      <td>화순군</td>\n",
       "      <td>수출유망</td>\n",
       "      <td>3.0</td>\n",
       "      <td>4.898964</td>\n",
       "    </tr>\n",
       "    <tr>\n",
       "      <th>65</th>\n",
       "      <td>화순군</td>\n",
       "      <td>지역특화</td>\n",
       "      <td>5.0</td>\n",
       "      <td>5.862694</td>\n",
       "    </tr>\n",
       "  </tbody>\n",
       "</table>\n",
       "<p>66 rows × 4 columns</p>\n",
       "</div>"
      ],
      "text/plain": [
       "     시군  지정구분  관측도수       기대도수\n",
       "0   강진군  기술유망   2.0   4.569948\n",
       "1   강진군  수출유망   1.0   1.106218\n",
       "2   강진군  지역특화   4.0   1.323834\n",
       "3   고흥군  기술유망   5.0   3.917098\n",
       "4   고흥군  수출유망   1.0   0.948187\n",
       "..  ...   ...   ...        ...\n",
       "61  해남군  수출유망   1.0   1.106218\n",
       "62  해남군  지역특화   2.0   1.323834\n",
       "63  화순군  기술유망  23.0  20.238342\n",
       "64  화순군  수출유망   3.0   4.898964\n",
       "65  화순군  지역특화   5.0   5.862694\n",
       "\n",
       "[66 rows x 4 columns]"
      ]
     },
     "execution_count": 15,
     "metadata": {},
     "output_type": "execute_result"
    }
   ],
   "source": [
    "# 관측도수데이터프레임(obs_df)와 기대도수데이터프레임(exp_df)를 merge(조인)하여 1차원 분할표를 구하기\n",
    "count_df = \n",
    "count_df"
   ]
  },
  {
   "cell_type": "code",
   "execution_count": 16,
   "metadata": {},
   "outputs": [],
   "source": [
    "# 외부조인에 의해 발생한 결측값을 0으로 채우기\n",
    "count_df."
   ]
  },
  {
   "cell_type": "code",
   "execution_count": 17,
   "metadata": {},
   "outputs": [
    {
     "data": {
      "text/html": [
       "<div>\n",
       "<style scoped>\n",
       "    .dataframe tbody tr th:only-of-type {\n",
       "        vertical-align: middle;\n",
       "    }\n",
       "\n",
       "    .dataframe tbody tr th {\n",
       "        vertical-align: top;\n",
       "    }\n",
       "\n",
       "    .dataframe thead th {\n",
       "        text-align: right;\n",
       "    }\n",
       "</style>\n",
       "<table border=\"1\" class=\"dataframe\">\n",
       "  <thead>\n",
       "    <tr style=\"text-align: right;\">\n",
       "      <th></th>\n",
       "      <th>시군</th>\n",
       "      <th>지정구분</th>\n",
       "      <th>관측도수</th>\n",
       "      <th>기대도수</th>\n",
       "    </tr>\n",
       "  </thead>\n",
       "  <tbody>\n",
       "    <tr>\n",
       "      <th>0</th>\n",
       "      <td>강진군</td>\n",
       "      <td>기술유망</td>\n",
       "      <td>2.0</td>\n",
       "      <td>4.569948</td>\n",
       "    </tr>\n",
       "    <tr>\n",
       "      <th>1</th>\n",
       "      <td>강진군</td>\n",
       "      <td>수출유망</td>\n",
       "      <td>1.0</td>\n",
       "      <td>1.106218</td>\n",
       "    </tr>\n",
       "    <tr>\n",
       "      <th>2</th>\n",
       "      <td>강진군</td>\n",
       "      <td>지역특화</td>\n",
       "      <td>4.0</td>\n",
       "      <td>1.323834</td>\n",
       "    </tr>\n",
       "    <tr>\n",
       "      <th>3</th>\n",
       "      <td>고흥군</td>\n",
       "      <td>기술유망</td>\n",
       "      <td>5.0</td>\n",
       "      <td>3.917098</td>\n",
       "    </tr>\n",
       "    <tr>\n",
       "      <th>4</th>\n",
       "      <td>고흥군</td>\n",
       "      <td>수출유망</td>\n",
       "      <td>1.0</td>\n",
       "      <td>0.948187</td>\n",
       "    </tr>\n",
       "    <tr>\n",
       "      <th>...</th>\n",
       "      <td>...</td>\n",
       "      <td>...</td>\n",
       "      <td>...</td>\n",
       "      <td>...</td>\n",
       "    </tr>\n",
       "    <tr>\n",
       "      <th>61</th>\n",
       "      <td>해남군</td>\n",
       "      <td>수출유망</td>\n",
       "      <td>1.0</td>\n",
       "      <td>1.106218</td>\n",
       "    </tr>\n",
       "    <tr>\n",
       "      <th>62</th>\n",
       "      <td>해남군</td>\n",
       "      <td>지역특화</td>\n",
       "      <td>2.0</td>\n",
       "      <td>1.323834</td>\n",
       "    </tr>\n",
       "    <tr>\n",
       "      <th>63</th>\n",
       "      <td>화순군</td>\n",
       "      <td>기술유망</td>\n",
       "      <td>23.0</td>\n",
       "      <td>20.238342</td>\n",
       "    </tr>\n",
       "    <tr>\n",
       "      <th>64</th>\n",
       "      <td>화순군</td>\n",
       "      <td>수출유망</td>\n",
       "      <td>3.0</td>\n",
       "      <td>4.898964</td>\n",
       "    </tr>\n",
       "    <tr>\n",
       "      <th>65</th>\n",
       "      <td>화순군</td>\n",
       "      <td>지역특화</td>\n",
       "      <td>5.0</td>\n",
       "      <td>5.862694</td>\n",
       "    </tr>\n",
       "  </tbody>\n",
       "</table>\n",
       "<p>66 rows × 4 columns</p>\n",
       "</div>"
      ],
      "text/plain": [
       "     시군  지정구분  관측도수       기대도수\n",
       "0   강진군  기술유망   2.0   4.569948\n",
       "1   강진군  수출유망   1.0   1.106218\n",
       "2   강진군  지역특화   4.0   1.323834\n",
       "3   고흥군  기술유망   5.0   3.917098\n",
       "4   고흥군  수출유망   1.0   0.948187\n",
       "..  ...   ...   ...        ...\n",
       "61  해남군  수출유망   1.0   1.106218\n",
       "62  해남군  지역특화   2.0   1.323834\n",
       "63  화순군  기술유망  23.0  20.238342\n",
       "64  화순군  수출유망   3.0   4.898964\n",
       "65  화순군  지역특화   5.0   5.862694\n",
       "\n",
       "[66 rows x 4 columns]"
      ]
     },
     "execution_count": 17,
     "metadata": {},
     "output_type": "execute_result"
    }
   ],
   "source": [
    "# 관측도수/기대도수 분할표 출력\n",
    "count_df"
   ]
  },
  {
   "cell_type": "code",
   "execution_count": 18,
   "metadata": {},
   "outputs": [],
   "source": [
    "# 2개 속성에 대한 자유도(degree of freedom) 갭 구하기\n",
    "# A 속성에 대한 cardinality = a, B 속성에 대한 cardinality = b라 가정\n",
    "# cardinality : 서로 다른 속성값의 개수\n",
    "\n",
    "# 분할표 전체 행 갯수(a*b) 구하기\n",
    "tot_rows = count_df.shape[0]"
   ]
  },
  {
   "cell_type": "markdown",
   "metadata": {},
   "source": [
    "### ‘시군’ 속성의 카디널러티(a) = 22\n",
    "### ‘지정구분’ 속성의 카디널러티(b) = 3\n",
    "### 그래서, (시군+지정구분) 속성조합의 카디널러티(a\\*b) = 22 * 3 = 66"
   ]
  },
  {
   "cell_type": "code",
   "execution_count": 19,
   "metadata": {},
   "outputs": [
    {
     "data": {
      "text/plain": [
       "66"
      ]
     },
     "execution_count": 19,
     "metadata": {},
     "output_type": "execute_result"
    }
   ],
   "source": [
    "tot_rows  # 변수확인"
   ]
  },
  {
   "cell_type": "code",
   "execution_count": 20,
   "metadata": {},
   "outputs": [],
   "source": [
    "# '시군' 속성의 cardinality 구하기\n",
    "card_sigun = len(count_df['시군'].unique())\n",
    "\n",
    "# '지정구분' 속성의 cardinality 구하기\n",
    "card_gubun = len(count_df['지정구분'].unique())"
   ]
  },
  {
   "cell_type": "code",
   "execution_count": 21,
   "metadata": {},
   "outputs": [],
   "source": [
    "# cardinality 갭 [(a*b-1) - (a-1)*(b-1)] 구하기\n",
    "# v_ddof = (tot_rows - 1) - (card_sigun-1)*(card_gubun-1)\n",
    "v_ddof = (card_sigun*card_gubun - 1) - (card_sigun-1)*(card_gubun-1)"
   ]
  },
  {
   "cell_type": "markdown",
   "metadata": {},
   "source": [
    "### 속성조합의 자유도(degree of freedom) = (66-1) = 65\n",
    "### 실제 자유도는 (22-1) * (3-1) = 42\n",
    "### 위 두 값의 차이 : 23 -> chisquare() 함수의 세번째 패러미터로 사용"
   ]
  },
  {
   "cell_type": "code",
   "execution_count": 22,
   "metadata": {},
   "outputs": [
    {
     "data": {
      "text/plain": [
       "23"
      ]
     },
     "execution_count": 22,
     "metadata": {},
     "output_type": "execute_result"
    }
   ],
   "source": [
    "v_ddof  # 변수확인"
   ]
  },
  {
   "cell_type": "code",
   "execution_count": 23,
   "metadata": {},
   "outputs": [],
   "source": [
    "obs_array = count_df['관측도수'] # obs_array : 관측도수를 저장하는 1차원 배열"
   ]
  },
  {
   "cell_type": "markdown",
   "metadata": {},
   "source": [
    "### obs_array : chisquare() 함수의 첫번째 패러미터로 사용"
   ]
  },
  {
   "cell_type": "code",
   "execution_count": 24,
   "metadata": {},
   "outputs": [
    {
     "data": {
      "text/plain": [
       "0      2.0\n",
       "1      1.0\n",
       "2      4.0\n",
       "3      5.0\n",
       "4      1.0\n",
       "      ... \n",
       "61     1.0\n",
       "62     2.0\n",
       "63    23.0\n",
       "64     3.0\n",
       "65     5.0\n",
       "Name: 관측도수, Length: 66, dtype: float64"
      ]
     },
     "execution_count": 24,
     "metadata": {},
     "output_type": "execute_result"
    }
   ],
   "source": [
    "obs_array  # 변수확인"
   ]
  },
  {
   "cell_type": "code",
   "execution_count": 25,
   "metadata": {},
   "outputs": [],
   "source": [
    "exp_array = count_df['기대도수'] # exp_array : 기대도수를 저장하는 1차원 배열"
   ]
  },
  {
   "cell_type": "markdown",
   "metadata": {},
   "source": [
    "### exp_array : chisquare() 함수의 두번째 패러미터로 사용"
   ]
  },
  {
   "cell_type": "code",
   "execution_count": 26,
   "metadata": {},
   "outputs": [
    {
     "data": {
      "text/plain": [
       "0      4.569948\n",
       "1      1.106218\n",
       "2      1.323834\n",
       "3      3.917098\n",
       "4      0.948187\n",
       "        ...    \n",
       "61     1.106218\n",
       "62     1.323834\n",
       "63    20.238342\n",
       "64     4.898964\n",
       "65     5.862694\n",
       "Name: 기대도수, Length: 66, dtype: float64"
      ]
     },
     "execution_count": 26,
     "metadata": {},
     "output_type": "execute_result"
    }
   ],
   "source": [
    "exp_array  # 변수확인"
   ]
  },
  {
   "cell_type": "code",
   "execution_count": 27,
   "metadata": {},
   "outputs": [],
   "source": [
    "# 카이제곱검정을 위한 scipy 패키지 중 stats 모듈 임포트\n",
    "from scipy import stats"
   ]
  },
  {
   "cell_type": "code",
   "execution_count": 28,
   "metadata": {},
   "outputs": [],
   "source": [
    "# stats.chisquare() : 카이제곱검정 함수\n",
    "chis = stats.chisquare(obs_array, exp_array, ddof=v_ddof)"
   ]
  },
  {
   "cell_type": "markdown",
   "metadata": {},
   "source": [
    "### chisquare() 함수 : 카이제곱(χ2) 통계량을 산출하는 함수\n",
    "#### 첫번째 패러미터 : 1차원 배열 형태의 관측도수 리스트\n",
    "#### 두번째 패러미터 : 1차원 배열 형태의 기대도수 리스트\n",
    "#### 세번째 패러미터 : 자유도 차이 [(a\\*b-1) - (a-1)\\*(b-1)]"
   ]
  },
  {
   "cell_type": "code",
   "execution_count": 29,
   "metadata": {},
   "outputs": [
    {
     "name": "stdout",
     "output_type": "stream",
     "text": [
      "statistic = 54.544, p-value = 0.09287\n"
     ]
    }
   ],
   "source": [
    "# stats.chisquare() 수행 후의 카이제곱 통계량과 p-value\n",
    "print(\"statistic = %.3f, p-value = %.5f\" % (chis))"
   ]
  },
  {
   "cell_type": "markdown",
   "metadata": {},
   "source": [
    "### 카이제곱 통계량(statistic) : 54.544\n",
    "### 유의확률(p-value) : 0.09287\n",
    "### 유의확률이 유의수준 0.05로 설정한다면 귀무가설(두 속성은 연관성이 없다)이 채택됨. 결론적으로, 시군과 지정구분 사이에는 큰 연관성은 없는 것으로 판단할 수 있음."
   ]
  },
  {
   "cell_type": "code",
   "execution_count": null,
   "metadata": {},
   "outputs": [],
   "source": []
  }
 ],
 "metadata": {
  "kernelspec": {
   "display_name": "Python 3",
   "language": "python",
   "name": "python3"
  },
  "language_info": {
   "codemirror_mode": {
    "name": "ipython",
    "version": 3
   },
   "file_extension": ".py",
   "mimetype": "text/x-python",
   "name": "python",
   "nbconvert_exporter": "python",
   "pygments_lexer": "ipython3",
   "version": "3.6.10"
  }
 },
 "nbformat": 4,
 "nbformat_minor": 2
}
